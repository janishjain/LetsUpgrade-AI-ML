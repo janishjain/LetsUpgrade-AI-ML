{
 "cells": [
  {
   "cell_type": "markdown",
   "metadata": {},
   "source": [
    "# Assignment Day 4"
   ]
  },
  {
   "cell_type": "markdown",
   "metadata": {},
   "source": [
    "## 1. Research on whether addition, subtraction, multiplication, division, floor division and modulo operations be performed on complex numbers. Based on your study, implement a Python program to demonstrate these operations."
   ]
  },
  {
   "cell_type": "code",
   "execution_count": 1,
   "metadata": {},
   "outputs": [
    {
     "name": "stdout",
     "output_type": "stream",
     "text": [
      "Enter real part of first complex number: 8\n",
      "Enter complex part of first complex number: 2\n",
      "Enter real part of second complex number: 2\n",
      "Enter complex part of second complex number: 1\n",
      "Addition of two complex numbers is : (10+3j)\n",
      "Subtraction of two complex numbers is : (6+1j)\n",
      "Multiplication of two complex numbers is : (14+12j)\n",
      "Division of two complex numbers is : (3.6-0.8j)\n",
      "Floor Division is done by using // opertor, but complex numbers can not be floor divided by simply using // operator.\n",
      "Modulo Division is done by using % opertor, but complex numbers can not be modulo divided by using % operator.\n"
     ]
    }
   ],
   "source": [
    "ar = int(input('Enter real part of first complex number: '))\n",
    "ac = int(input('Enter complex part of first complex number: '))\n",
    "br = int(input('Enter real part of second complex number: '))\n",
    "bc = int(input('Enter complex part of second complex number: '))\n",
    "a = complex(ar, ac)\n",
    "b = complex(br, bc)\n",
    "\n",
    "# Adding two complex numbers returns a complex number. Can be simply done by using + operator.\n",
    "def addition(a, b):\n",
    "    return a+b\n",
    "\n",
    "# Subtracting two complex numbers returns a complex number. Can be simply done by using - operator.\n",
    "def subtraction(a, b):\n",
    "    return a-b\n",
    "\n",
    "# Multiplying two complex numbers returns a complex number. Can be simply done by using * operator.\n",
    "def multiplication(a, b):\n",
    "    return a*b\n",
    "\n",
    "# Dividing two complex numbers returns a complex number. Can be simply done by using / operator.\n",
    "def division(a, b):\n",
    "    return a/b\n",
    "\n",
    "print( \"Addition of two complex numbers is :\", addition(a, b))\n",
    "print( \"Subtraction of two complex numbers is :\", subtraction(a, b))\n",
    "print( \"Multiplication of two complex numbers is :\", multiplication(a, b))\n",
    "print( \"Division of two complex numbers is :\", division(a, b))\n",
    "print( \"Floor Division is done by using // opertor, but complex numbers can not be floor divided by simply using // operator.\")\n",
    "print( \"Modulo Division is done by using % opertor, but complex numbers can not be modulo divided by using % operator.\")"
   ]
  },
  {
   "cell_type": "markdown",
   "metadata": {},
   "source": [
    "## 2. Research on range() functions and its parameters. Create a markdown cell and write in your own words what you understand about it. Implement a small program of your choice on the same.\n"
   ]
  },
  {
   "cell_type": "markdown",
   "metadata": {},
   "source": [
    "**Syntax:** `range(start, stop, step)` <br/>\n",
    "*Start and step are optional. Stop is compulsory. Default start is 0 and default step increment is 1* <br/>\n",
    "Below are some functions describing range."
   ]
  },
  {
   "cell_type": "code",
   "execution_count": 2,
   "metadata": {},
   "outputs": [
    {
     "name": "stdout",
     "output_type": "stream",
     "text": [
      "Range with only stop parameter as 3\n",
      "0\n",
      "1\n",
      "2\n",
      "\n",
      "Range with start, stop, step parameter as 1, 20, 3 respectively\n",
      "1\n",
      "4\n",
      "7\n",
      "10\n",
      "13\n",
      "16\n",
      "19\n"
     ]
    }
   ],
   "source": [
    "# Using range() function and providing only STOP parameter\n",
    "x = range(3)\n",
    "print('Range with only stop parameter as 3')\n",
    "for n in x:\n",
    "    print(n)\n",
    "\n",
    "# Using range() function and providing start, stop and step parameters\n",
    "x = range(1, 20, 3)\n",
    "print(\"\\nRange with start, stop, step parameter as 1, 20, 3 respectively\")\n",
    "for n in x:\n",
    "    print(n)"
   ]
  },
  {
   "cell_type": "markdown",
   "metadata": {},
   "source": [
    "## 3. Consider two numbers. Perform their subtraction and if the result of subtraction is greater than 25, print their multiplication result else print their division result."
   ]
  },
  {
   "cell_type": "code",
   "execution_count": 3,
   "metadata": {},
   "outputs": [
    {
     "name": "stdout",
     "output_type": "stream",
     "text": [
      "Enter the first number: 78\n",
      "Enter the second number: 52\n",
      "Multiplication of the numbers is 4056\n"
     ]
    }
   ],
   "source": [
    "a = int(input('Enter the first number: '))\n",
    "b = int(input('Enter the second number: '))\n",
    "diff = a-b\n",
    "\n",
    "if (diff > 25):\n",
    "    print('Multiplication of the numbers is',a*b)\n",
    "else:\n",
    "    print('Division of the numbers is',a/b)"
   ]
  },
  {
   "cell_type": "markdown",
   "metadata": {},
   "source": [
    "## 4. Consider a list of 10 elements of integer values. If the number in the list is divisible by 2, print the result as \"square of that number minus 2\".\n"
   ]
  },
  {
   "cell_type": "code",
   "execution_count": 4,
   "metadata": {},
   "outputs": [
    {
     "name": "stdout",
     "output_type": "stream",
     "text": [
      "23 is not an even number\n",
      "Square of 8 minus 2 is : 62\n",
      "Square of 26 minus 2 is : 674\n",
      "49 is not an even number\n",
      "Square of 34 minus 2 is : 1154\n",
      "Square of 98 minus 2 is : 9602\n",
      "Square of 662 minus 2 is : 438242\n",
      "329 is not an even number\n",
      "35 is not an even number\n",
      "Square of 74 minus 2 is : 5474\n"
     ]
    }
   ],
   "source": [
    "x = [23,8,26,49,34,98,662,329,35,74]\n",
    "\n",
    "for i in x:\n",
    "    if ((i % 2) == 0):\n",
    "        print('Square of',i,'minus 2 is :',(i*i)-2)\n",
    "    else:\n",
    "        print(i,'is not an even number')"
   ]
  },
  {
   "cell_type": "markdown",
   "metadata": {},
   "source": [
    "## 5. Consider a list of 10 elements. Print all the elements in the list which are greater than 7 when that number is divided 2."
   ]
  },
  {
   "cell_type": "code",
   "execution_count": 5,
   "metadata": {},
   "outputs": [
    {
     "name": "stdout",
     "output_type": "stream",
     "text": [
      "8 is divisible by 2 and greater than 7\n",
      "56 is divisible by 2 and greater than 7\n",
      "54 is divisible by 2 and greater than 7\n",
      "10 is divisible by 2 and greater than 7\n"
     ]
    }
   ],
   "source": [
    "x = [8,1,56,15,23,4,9,54,6,10]\n",
    "for i in x:\n",
    "    if (((i%2) == 0) and (i>7)):\n",
    "        print(i,'is divisible by 2 and greater than 7')"
   ]
  }
 ],
 "metadata": {
  "kernelspec": {
   "display_name": "Python 3",
   "language": "python",
   "name": "python3"
  },
  "language_info": {
   "codemirror_mode": {
    "name": "ipython",
    "version": 3
   },
   "file_extension": ".py",
   "mimetype": "text/x-python",
   "name": "python",
   "nbconvert_exporter": "python",
   "pygments_lexer": "ipython3",
   "version": "3.7.6"
  }
 },
 "nbformat": 4,
 "nbformat_minor": 4
}
