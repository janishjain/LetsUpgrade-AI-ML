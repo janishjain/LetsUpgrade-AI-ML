{
 "cells": [
  {
   "cell_type": "markdown",
   "metadata": {},
   "source": [
    "# Assignment Day 5"
   ]
  },
  {
   "cell_type": "markdown",
   "metadata": {},
   "source": [
    "## 1. Write a Python program to find the first 20 non-even prime natural numbers."
   ]
  },
  {
   "cell_type": "code",
   "execution_count": 4,
   "metadata": {},
   "outputs": [
    {
     "name": "stdout",
     "output_type": "stream",
     "text": [
      "List of first 20 Non Even Prime numbers is:\n",
      " [3, 5, 7, 11, 13, 17, 19, 23, 29, 31, 37, 41, 43, 47, 53, 59, 61, 67, 71, 73, 79, 83, 89, 97]\n"
     ]
    }
   ],
   "source": [
    "prime_list = list()\n",
    "range_100 = range(1, 100)\n",
    "prime_list_length = len(prime_list)\n",
    "for num in range_100:\n",
    "    if (num > 2 and prime_list_length < 20):\n",
    "        for i in range(2, num):\n",
    "            if (num%i==0):\n",
    "                break\n",
    "        else:\n",
    "            prime_list.append(num)\n",
    "\n",
    "print(\"List of first 20 Non Even Prime numbers is:\\n\",prime_list)"
   ]
  },
  {
   "cell_type": "markdown",
   "metadata": {},
   "source": [
    "## 2. Write a Python program to implement 15 functions of string."
   ]
  },
  {
   "cell_type": "code",
   "execution_count": 20,
   "metadata": {},
   "outputs": [
    {
     "name": "stdout",
     "output_type": "stream",
     "text": [
      "Upper : HELLO WORLD! THIS IS ASSIGNMENT FOR DAY 5.\n",
      "Lower : hello world! this is assignment for day 5.\n",
      "Check if the string is in uppercase : False\n",
      "Check if the string is in lowercase : False\n",
      "Count of letter i in the string : 3\n",
      "String ends with . : True\n",
      "Find an index position of ! charecter in a string : 11\n",
      "Case fold : hello world! this is assignment for day 5.\n",
      "Swap Case :  hELLO wORLD! tHIS IS aSSIGNMENT FOR dAY 5.\n",
      "Check if the string is alphanumeric : False\n",
      "Check if all the charecters are alphabet letters : False\n",
      "string to list using split : ['Hello World', 'This is Assignment for Day 5.']\n",
      "Check if all charecters are digit : False\n",
      "Repleace a maching with a string : LetsUpgrade! This is Assignment for Day 5.\n",
      "Value formatting with multiple substitions: Hello World! This is Assignment for Day 5. It is completed.\n"
     ]
    }
   ],
   "source": [
    "s = \"Hello World! This is Assignment for Day 5.\"\n",
    "\n",
    "# Convert whole string to uppercase\n",
    "print('Upper :', s.upper())\n",
    "# Convert whole string to lowercase\n",
    "print('Lower :',s.lower())\n",
    "# Check is whole string uppercase\n",
    "print('Check if the string is in uppercase :', s.isupper())\n",
    "# Check is whole string lowercase\n",
    "print('Check if the string is in lowercase :', s.islower())\n",
    "# Count a an alphabet in the string\n",
    "print('Count of letter i in the string :', s.count('i') )\n",
    "# Check if string ends with full stop\n",
    "print('String ends with . :' , s.endswith('.'))\n",
    "# Find index of a character\n",
    "print('Find an index position of ! charecter in a string :', s.find('!'))\n",
    "# Convert string to lowercase\n",
    "print('Case fold :', s.casefold())\n",
    "# Swap case of the string\n",
    "print('Swap Case : ', s.swapcase())\n",
    "# Check if string is alphanumeric\n",
    "print('Check if the string is alphanumeric :', s.isalnum())\n",
    "# Check if the string has only alphabets\n",
    "print('Check if all the charecters are alphabet letters :',s.isalpha() )\n",
    "# Explode string into an list using the given separator\n",
    "print('string to list using split :', s.split('! '))\n",
    "# Check if all characters are digit\n",
    "print('Check if all charecters are digit :', s.isdigit() )\n",
    "# Replace string with different string\n",
    "print('Repleace a maching with a string :', s.replace('Hello World', 'LetsUpgrade'))\n",
    "# Value formatting with multiple substitions\n",
    "s = s + \" {}\"\n",
    "print('Value formatting with multiple substitions:', s.format('It is completed.'))"
   ]
  },
  {
   "cell_type": "markdown",
   "metadata": {},
   "source": [
    "## 3. Write a Python program to check if the given string is a Palindrome or Anagram or None of them. Display the message accordingly to the user."
   ]
  },
  {
   "cell_type": "code",
   "execution_count": 29,
   "metadata": {},
   "outputs": [
    {
     "name": "stdout",
     "output_type": "stream",
     "text": [
      "Enter 1 for palindrome or 2 for anagram2\n",
      "Please enter a string for anagram:abc\n",
      "Please enter another string for anagram:cba\n",
      "Both the entered strings are Anagram\n"
     ]
    }
   ],
   "source": [
    "select = int(input('Enter 1 for palindrome or 2 for anagram'))\n",
    "\n",
    "if select == 1:\n",
    "    p = input('Please enter a string to check if it is a palindrome:')\n",
    "    p = p.lower()\n",
    "    rev_str = p[::-1]\n",
    "    if rev_str == p:\n",
    "        print(\"Entered string is a Palindrome\")\n",
    "    else:\n",
    "        print(\"Not a palindrome\")\n",
    "elif select == 2:\n",
    "    a = input('Please enter a string for anagram:')\n",
    "    b = input('Please enter another string for anagram:')\n",
    "    a = a.lower()\n",
    "    a = sorted(a)\n",
    "    b = sorted(b)\n",
    "    if a==b:\n",
    "        print(\"Both the entered strings are Anagram\")\n",
    "    else:\n",
    "        print(\"Not an anagram\")\n",
    "else:\n",
    "    print(\"Not a valid choice\")"
   ]
  },
  {
   "cell_type": "markdown",
   "metadata": {},
   "source": [
    "## 4. Write a Python's user defined function that removes all the additional characters from the string and converts it finally to lower case using built-in lower(). eg: If the string is \"Dr. Darshan Ingle@AI-ML Trainer\", then the output be \"drdarshaningleaimltrainer\"."
   ]
  },
  {
   "cell_type": "code",
   "execution_count": 23,
   "metadata": {},
   "outputs": [
    {
     "name": "stdout",
     "output_type": "stream",
     "text": [
      "After removing spaces and special characters strings is: drdarshaningleaimltrainer\n"
     ]
    }
   ],
   "source": [
    "str = \"Dr. Darshan Ingle@AI-ML Trainer\"\n",
    "x = \"\"\n",
    "for char in str:\n",
    "    if char.isalpha():\n",
    "        x += char.lower()\n",
    "        \n",
    "print(\"After removing spaces and special characters strings is:\",x)"
   ]
  }
 ],
 "metadata": {
  "kernelspec": {
   "display_name": "Python 3",
   "language": "python",
   "name": "python3"
  },
  "language_info": {
   "codemirror_mode": {
    "name": "ipython",
    "version": 3
   },
   "file_extension": ".py",
   "mimetype": "text/x-python",
   "name": "python",
   "nbconvert_exporter": "python",
   "pygments_lexer": "ipython3",
   "version": "3.7.6"
  }
 },
 "nbformat": 4,
 "nbformat_minor": 4
}
