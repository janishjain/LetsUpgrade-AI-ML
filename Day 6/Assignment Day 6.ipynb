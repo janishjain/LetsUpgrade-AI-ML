{
 "cells": [
  {
   "cell_type": "markdown",
   "metadata": {},
   "source": [
    "# Assignment Day 6"
   ]
  },
  {
   "cell_type": "markdown",
   "metadata": {},
   "source": [
    "## 1. Assuming that we have some email addresses in the \"username@companyname.com\" format, please write program to print the company name of a given email address. Both user names and company names are composed of letters only."
   ]
  },
  {
   "cell_type": "code",
   "execution_count": 2,
   "metadata": {
    "scrolled": true
   },
   "outputs": [
    {
     "name": "stdout",
     "output_type": "stream",
     "text": [
      "Please input your email: janish@letsupgrade.com\n",
      "Your company name is : letsupgrade\n"
     ]
    }
   ],
   "source": [
    "# Collect email from user\n",
    "email = input(\"Please input your email: \")\n",
    "# Split the email string at character '@', it will output a list and store it in email\n",
    "email = email.split('@')\n",
    "# get domain name by splitting at character '.' it will output a list\n",
    "domain = email[1].split('.', -1)\n",
    "# Get company name at index 0 of the list\n",
    "company_name = domain[0]\n",
    "print(\"Your company name is :\",company_name)"
   ]
  },
  {
   "cell_type": "markdown",
   "metadata": {},
   "source": [
    "## 2. Write a program that accepts a comma-separated sequence of words as input and prints the words in a comma separated sequence after sorting them alphabetically."
   ]
  },
  {
   "cell_type": "code",
   "execution_count": 1,
   "metadata": {},
   "outputs": [
    {
     "name": "stdout",
     "output_type": "stream",
     "text": [
      "Please input a comma separated string: Lets, upgrade, ai, ml\n",
      "Here is your sorted list:  ai,  ml,  upgrade, Lets\n"
     ]
    }
   ],
   "source": [
    "# Collect comma separated string from user\n",
    "string = input(\"Please input a comma separated string: \")\n",
    "if string.find(',') != -1:\n",
    "    array = string.split(',')\n",
    "    array = sorted(array)\n",
    "    string = ', '.join(array)\n",
    "    print(\"Here is your sorted list:\",string)\n",
    "else:\n",
    "    print(\"Enter a valid string separated by comma\")"
   ]
  },
  {
   "cell_type": "markdown",
   "metadata": {},
   "source": [
    "## 4. Given a list of n-1 numbers ranging from 1 to n, your task is to find the missing number. There are no duplicates."
   ]
  },
  {
   "cell_type": "code",
   "execution_count": 15,
   "metadata": {},
   "outputs": [
    {
     "name": "stdout",
     "output_type": "stream",
     "text": [
      "Please input numbers in ascending order separated by single space :1 2 4 6 9\n",
      "Here are the missing numbers: 3, 5, 7, 8\n"
     ]
    }
   ],
   "source": [
    "# Collect space separated string from user\n",
    "user_r = input(\"Please input numbers in ascending order separated by single space :\")\n",
    "user_r = list(map(int, user_r.split(' ')))\n",
    "def_r = list(range(1, user_r[-1]+1, 1))\n",
    "missing = list(set(def_r) - set(user_r))\n",
    "missing.sort()\n",
    "missing = list(map(str, missing))\n",
    "missing = ', '.join(missing)\n",
    "print(\"Here are the missing numbers:\",missing)"
   ]
  },
  {
   "cell_type": "markdown",
   "metadata": {},
   "source": [
    "## 5. With a given list L, write a program to print this list L after removing all duplicate values with original order reserved."
   ]
  },
  {
   "cell_type": "code",
   "execution_count": 16,
   "metadata": {},
   "outputs": [
    {
     "name": "stdout",
     "output_type": "stream",
     "text": [
      "the unique values from 1st list is\n",
      "10\n",
      "20\n",
      "30\n",
      "40\n"
     ]
    }
   ],
   "source": [
    "def unique(userlist): \n",
    "    # intilize a null list \n",
    "    unique_list = [] \n",
    "    # traverse for all elements \n",
    "    for x in userlist: \n",
    "        # check if exists in unique_list or not \n",
    "        if x not in unique_list: \n",
    "            unique_list.append(x) \n",
    "    # print list \n",
    "    for x in unique_list: \n",
    "        print(x), \n",
    "\n",
    "userlist = [10, 20, 10, 30, 40, 40] \n",
    "print(\"the unique values from 1st list is\") \n",
    "unique(userlist)"
   ]
  }
 ],
 "metadata": {
  "kernelspec": {
   "display_name": "Python 3",
   "language": "python",
   "name": "python3"
  },
  "language_info": {
   "codemirror_mode": {
    "name": "ipython",
    "version": 3
   },
   "file_extension": ".py",
   "mimetype": "text/x-python",
   "name": "python",
   "nbconvert_exporter": "python",
   "pygments_lexer": "ipython3",
   "version": "3.7.6"
  }
 },
 "nbformat": 4,
 "nbformat_minor": 4
}
