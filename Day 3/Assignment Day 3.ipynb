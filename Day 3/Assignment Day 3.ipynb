{
 "cells": [
  {
   "cell_type": "markdown",
   "metadata": {},
   "source": [
    "# Assignment Day 3"
   ]
  },
  {
   "cell_type": "markdown",
   "metadata": {},
   "source": [
    "## 1. Program to subtract two complex numbers in Python."
   ]
  },
  {
   "cell_type": "code",
   "execution_count": 1,
   "metadata": {},
   "outputs": [
    {
     "name": "stdout",
     "output_type": "stream",
     "text": [
      "Subtraction of the complex number is: (1+12j)\n"
     ]
    }
   ],
   "source": [
    "a = 3 + 5j #1stcomplex number\n",
    "b = 2 - 7j #2nd complex number\n",
    "print(\"Subtraction of the complex number is:\",a - b) #prints subtraction of both numbers"
   ]
  },
  {
   "cell_type": "markdown",
   "metadata": {},
   "source": [
    "## 2. Program to find the fourth root of a number."
   ]
  },
  {
   "cell_type": "code",
   "execution_count": 8,
   "metadata": {},
   "outputs": [
    {
     "name": "stdout",
     "output_type": "stream",
     "text": [
      "Enter number no find fourth root: 16\n",
      "Fourth root of the given number is: 2.0\n"
     ]
    }
   ],
   "source": [
    "a = int(input('Enter number no find fourth root: '))\n",
    "fourth_root = a**(1/4) #found fourth root of the number\n",
    "print(\"Fourth root of the given number is:\",fourth_root) #printed fourth root"
   ]
  },
  {
   "cell_type": "markdown",
   "metadata": {},
   "source": [
    "## 3. Program to swap two numbers in Python with the help of a temporary variable. "
   ]
  },
  {
   "cell_type": "code",
   "execution_count": 3,
   "metadata": {},
   "outputs": [
    {
     "name": "stdout",
     "output_type": "stream",
     "text": [
      "Enter first number: 34243\n",
      "Enter second number: 765675\n",
      "Variable 'a' has integer 34243 and variable 'b' has integer 765675\n",
      "After swapping using a temporary variable,\n",
      "Variable 'a' has integer 765675 and variable 'b' has integer 34243\n"
     ]
    }
   ],
   "source": [
    "a = int(input('Enter first number: '))\n",
    "b = int(input('Enter second number: '))\n",
    "print(\"Variable 'a' has integer\",a,\"and variable 'b' has integer\",b)\n",
    "temp = a #assigned value of a to temp\n",
    "a = b #assigned value of b to a\n",
    "b = temp #assigned value of temp to b\n",
    "print(\"After swapping using a temporary variable,\")\n",
    "print(\"Variable 'a' has integer\",a,\"and variable 'b' has integer\",b)"
   ]
  },
  {
   "cell_type": "markdown",
   "metadata": {},
   "source": [
    "## 4. Program to swap two numbers in Python without using a temporary variable. "
   ]
  },
  {
   "cell_type": "code",
   "execution_count": 5,
   "metadata": {},
   "outputs": [
    {
     "name": "stdout",
     "output_type": "stream",
     "text": [
      "Enter first number: 2342\n",
      "Enter second number: 7866\n",
      "Variable 'a' has integer 2342 and variable 'b' has integer 7866\n",
      "After swapping,\n",
      "Variable 'a' has integer 7866 and variable 'b' has integer 2342\n"
     ]
    }
   ],
   "source": [
    "a = int(input('Enter first number: '))\n",
    "b = int(input('Enter second number: '))\n",
    "print(\"Variable 'a' has integer\",a,\"and variable 'b' has integer\",b)\n",
    "a = a + b #added a and b\n",
    "b = a - b #subtracted b from a and stored in b\n",
    "a = a - b #subtracted b from a and stored in a\n",
    "print(\"After swapping,\")\n",
    "print(\"Variable 'a' has integer\",a,\"and variable 'b' has integer\",b)"
   ]
  },
  {
   "cell_type": "markdown",
   "metadata": {},
   "source": [
    "## 5. Program to convert Fahrenheit to Kelvin and Celsius both."
   ]
  },
  {
   "cell_type": "code",
   "execution_count": 6,
   "metadata": {},
   "outputs": [
    {
     "name": "stdout",
     "output_type": "stream",
     "text": [
      "Enter the temperature in Fahrenheit: 32\n",
      "Given temperature in Kelvin is: 273.5 K\n",
      "Given temperature in Celsius is: 0.0 °C\n"
     ]
    }
   ],
   "source": [
    "f = int(input('Enter the temperature in Fahrenheit: '))\n",
    "k = 273.5 + ((f - 32.0) * (5.0/9.0))\n",
    "c = (f - 32)*(5/9)\n",
    "print(\"Given temperature in Kelvin is:\",k,\"K\")\n",
    "print(\"Given temperature in Celsius is:\",c,\"°C\")"
   ]
  },
  {
   "cell_type": "markdown",
   "metadata": {},
   "source": [
    "## 6. Program to demonstrate all the available data types in Python."
   ]
  },
  {
   "cell_type": "code",
   "execution_count": 9,
   "metadata": {},
   "outputs": [
    {
     "name": "stdout",
     "output_type": "stream",
     "text": [
      "Datatype of a is: <class 'str'>\n",
      "Datatype of b is: <class 'int'>\n",
      "Datatype of c is: <class 'float'>\n",
      "Datatype of d is: <class 'complex'>\n",
      "Datatype of e is: <class 'list'>\n",
      "Datatype of f is: <class 'tuple'>\n",
      "Datatype of g is: <class 'range'>\n",
      "Datatype of h is: <class 'dict'>\n",
      "Datatype of i is: <class 'set'>\n"
     ]
    }
   ],
   "source": [
    "a = \"LetsUpgrade\" #string\n",
    "b = 100 #integer\n",
    "c = 5.5 #Float\n",
    "d = 1j #Complex No\n",
    "e = [\"first\", \"second\", \"third\"] #List\n",
    "f = (\"first\", \"second\", \"third\") #Tuple\n",
    "g = range(6) #Range\n",
    "h = {\"first\" : 1, \"second\" : 2, \"third\" : 3} #Dictionary\n",
    "i = {\"first\", \"second\", \"third\"} #Set\n",
    "\n",
    "print(\"Datatype of a is:\",type(a))\n",
    "print(\"Datatype of b is:\",type(b))\n",
    "print(\"Datatype of c is:\",type(c))\n",
    "print(\"Datatype of d is:\",type(d))\n",
    "print(\"Datatype of e is:\",type(e))\n",
    "print(\"Datatype of f is:\",type(f))\n",
    "print(\"Datatype of g is:\",type(g))\n",
    "print(\"Datatype of h is:\",type(h))\n",
    "print(\"Datatype of i is:\",type(i))"
   ]
  },
  {
   "cell_type": "markdown",
   "metadata": {},
   "source": [
    "## 7. Steps to create Github profile, create a repository and submitting assignments in the repository."
   ]
  },
  {
   "cell_type": "markdown",
   "metadata": {},
   "source": [
    "### Creating a Github profile\n",
    "1. Visit **https://github.com/join**\n",
    "2. Enter required details and create an account\n",
    "\n",
    "### Creating a Github repository\n",
    "1. In the upper-right corner of any page, click **+**, and then click **New repository**.\n",
    "2. Enter **LetsUpgrade AI/ML** name for your repository.\n",
    "3. Choose to make the repository public.\n",
    "4. Click **Create repository**.\n",
    "\n",
    "### Submitting Assignments\n",
    "1. To upload assignments, just open the repository and drag and drop your assignment folder.\n",
    "2. Upload the files/solution in the repository in day wise manner.\n",
    "3. Copy the URL of the folder of that day and paste in the Assignment Submission Form (Google Form)\n",
    "4. Make sure you are filling correct details in the Assignment Submission Form.\n",
    "5. You have to submit all the assignment given during the weekdays by respective SUNDAY 11:59 PM IST."
   ]
  }
 ],
 "metadata": {
  "colab": {
   "name": "fourth_root_of_number.ipynb",
   "provenance": []
  },
  "kernelspec": {
   "display_name": "Python 3",
   "language": "python",
   "name": "python3"
  },
  "language_info": {
   "codemirror_mode": {
    "name": "ipython",
    "version": 3
   },
   "file_extension": ".py",
   "mimetype": "text/x-python",
   "name": "python",
   "nbconvert_exporter": "python",
   "pygments_lexer": "ipython3",
   "version": "3.7.6"
  }
 },
 "nbformat": 4,
 "nbformat_minor": 1
}
